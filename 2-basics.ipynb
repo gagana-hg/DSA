{
 "cells": [
  {
   "cell_type": "markdown",
   "metadata": {},
   "source": [
    "# Basics"
   ]
  },
  {
   "cell_type": "markdown",
   "metadata": {},
   "source": [
    "### 1. Count Digits\n",
    "\n",
    "Input: N = 12345      \n",
    "Output: 5     \n",
    "Explanation: N has 5 digits    "
   ]
  },
  {
   "cell_type": "code",
   "execution_count": 3,
   "metadata": {},
   "outputs": [
    {
     "name": "stdout",
     "output_type": "stream",
     "text": [
      "5\n"
     ]
    }
   ],
   "source": [
    "n = 12345\n",
    "print(len(str(n)))"
   ]
  },
  {
   "cell_type": "markdown",
   "metadata": {},
   "source": [
    "### 2. Reverse a number\n",
    "\n",
    "Input: N = 123     \n",
    "Output: 321     \n",
    "Explanation: The reverse of 123 is 321    "
   ]
  },
  {
   "cell_type": "code",
   "execution_count": 4,
   "metadata": {},
   "outputs": [
    {
     "name": "stdout",
     "output_type": "stream",
     "text": [
      "321\n"
     ]
    }
   ],
   "source": [
    "n = 123\n",
    "print(str(n)[::-1])"
   ]
  },
  {
   "cell_type": "markdown",
   "metadata": {},
   "source": [
    "### 3. Check if a number is Palindrome or Not\n",
    "\n",
    "Input: N = 123    \n",
    "Output: Not Palindrome Number    \n",
    "Explanation: 123 read backwards is 321.Since these are two different numbers 123 is not a palindrome."
   ]
  },
  {
   "cell_type": "code",
   "execution_count": 22,
   "metadata": {},
   "outputs": [
    {
     "name": "stdout",
     "output_type": "stream",
     "text": [
      "False\n",
      "True\n"
     ]
    }
   ],
   "source": [
    "\n",
    "def palindrome(n):\n",
    "    rev_n = int(str(n)[::-1])\n",
    "    print(n==rev_n)\n",
    "\n",
    "palindrome(123)\n",
    "palindrome(12321)\n"
   ]
  },
  {
   "cell_type": "markdown",
   "metadata": {},
   "source": [
    "### 4. Check if a number is Armstrong Number or not\n",
    "\n",
    "Input:153     \n",
    "Output: Yes, it is an Armstrong Number    \n",
    "Explanation: 1^3 + 5^3 + 3^3 = 153\n",
    "\n",
    "* Armstrong Numbers are the numbers having the sum of digits raised to power no. of digits is equal to a given number."
   ]
  },
  {
   "cell_type": "code",
   "execution_count": 14,
   "metadata": {},
   "outputs": [
    {
     "name": "stdout",
     "output_type": "stream",
     "text": [
      "False\n",
      "True\n"
     ]
    }
   ],
   "source": [
    "\n",
    "def armstrong(n):\n",
    "    power = len(str(n))\n",
    "    sum = 0\n",
    "    temp = n\n",
    "    while n > 0:\n",
    "        dig = n%10\n",
    "        sum += dig**power\n",
    "        n //= 10\n",
    "\n",
    "    print(sum == temp)\n",
    "\n",
    "armstrong(1234)\n",
    "armstrong(407)"
   ]
  },
  {
   "cell_type": "markdown",
   "metadata": {},
   "source": [
    "### 5. Print all Divisors of a given Number    \n",
    "\n",
    "Input: n = 36    \n",
    "Output: 1 2 3 4 6 9 12 18 36    \n",
    "Explanation: All the divisors of 36 are printed."
   ]
  },
  {
   "cell_type": "code",
   "execution_count": 5,
   "metadata": {},
   "outputs": [
    {
     "name": "stdout",
     "output_type": "stream",
     "text": [
      "Brute Force method\n",
      "[1, 2, 3, 4, 6, 9, 12, 18]\n"
     ]
    }
   ],
   "source": [
    "print(\"Brute Force method\")\n",
    "\n",
    "n = 36\n",
    "\n",
    "num = 1\n",
    "numbs = []\n",
    "while n > num:\n",
    "    if n % num == 0:\n",
    "        numbs.append(num)\n",
    "    num += 1 \n",
    "print(numbs)"
   ]
  },
  {
   "attachments": {
    "image.png": {
     "image/png": "[encoded data removed]"
    }
   },
   "cell_type": "markdown",
   "metadata": {},
   "source": [
    "Optimal solution     \n",
    "\n",
    "![image.png](attachment:image.png)"
   ]
  },
  {
   "cell_type": "code",
   "execution_count": 11,
   "metadata": {},
   "outputs": [
    {
     "name": "stdout",
     "output_type": "stream",
     "text": [
      "The Divisors of 36 are:\n",
      "1 36 2 18 3 12 4 9 6 "
     ]
    }
   ],
   "source": [
    "n = 36\n",
    "print(\"The Divisors of\",n,\"are:\")\n",
    "for i in range(1, int(n**0.5)+1):\n",
    "    if n % i == 0:\n",
    "        print(i, end=\" \")\n",
    "        if i != n/i:\n",
    "            print(int(n/i), end=\" \")\n"
   ]
  },
  {
   "cell_type": "markdown",
   "metadata": {},
   "source": [
    "### 6. GCD Or HCF\n",
    "<span style=\"color:red\">Pending</span>"
   ]
  },
  {
   "cell_type": "markdown",
   "metadata": {},
   "source": [
    "### 7. Check for Prime"
   ]
  },
  {
   "cell_type": "code",
   "execution_count": 21,
   "metadata": {},
   "outputs": [
    {
     "name": "stdout",
     "output_type": "stream",
     "text": [
      "Is 9 prime number? False\n",
      "Is 2 prime number? True\n"
     ]
    }
   ],
   "source": [
    "\n",
    "def is_prime(n):\n",
    "    if n == 1:\n",
    "        return False \n",
    "    for i in range(2, int(n**0.5)+1):\n",
    "            if n % i == 0:\n",
    "                return False\n",
    "    return True\n",
    "\n",
    "\n",
    "print(\"Is 9 prime number?\", is_prime(9))\n",
    "print(\"Is 2 prime number?\", is_prime(2))"
   ]
  }
 ],
 "metadata": {
  "kernelspec": {
   "display_name": "Python 3",
   "language": "python",
   "name": "python3"
  },
  "language_info": {
   "codemirror_mode": {
    "name": "ipython",
    "version": 3
   },
   "file_extension": ".py",
   "mimetype": "text/x-python",
   "name": "python",
   "nbconvert_exporter": "python",
   "pygments_lexer": "ipython3",
   "version": "3.11.4"
  }
 },
 "nbformat": 4,
 "nbformat_minor": 2
}
