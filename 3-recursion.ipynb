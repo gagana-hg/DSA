{
 "cells": [
  {
   "cell_type": "markdown",
   "metadata": {},
   "source": [
    "\n",
    "# Recursion\n",
    "\n",
    "\n"
   ]
  },
  {
   "cell_type": "markdown",
   "metadata": {},
   "source": [
    "### 1. Sum of N numbers"
   ]
  },
  {
   "cell_type": "code",
   "execution_count": 7,
   "metadata": {},
   "outputs": [
    {
     "name": "stdout",
     "output_type": "stream",
     "text": [
      "sum of 5 numbers :  15\n"
     ]
    }
   ],
   "source": [
    "def sum_of_n(n):\n",
    "    # Base condition\n",
    "    if n==0:\n",
    "        return 0\n",
    "    return n + sum_of_n(n-1)\n",
    "\n",
    "n = 5\n",
    "print(\"sum of 5 numbers : \", sum_of_n(n))"
   ]
  },
  {
   "cell_type": "markdown",
   "metadata": {},
   "source": [
    "### 2. Factorial of a number"
   ]
  },
  {
   "cell_type": "code",
   "execution_count": 6,
   "metadata": {},
   "outputs": [
    {
     "name": "stdout",
     "output_type": "stream",
     "text": [
      "Factorial of 5 :  120\n"
     ]
    }
   ],
   "source": [
    "def factorial(n):\n",
    "    # Base condition\n",
    "    if n==1:\n",
    "        return 1\n",
    "    return n * factorial(n-1)\n",
    "\n",
    "\n",
    "n=5\n",
    "print(\"Factorial of 5 : \", factorial(n))"
   ]
  },
  {
   "cell_type": "markdown",
   "metadata": {},
   "source": [
    "### 3. Fibonacci Series\n",
    "\n",
    "F(n) = F(n-1) + F(n-2)"
   ]
  },
  {
   "cell_type": "code",
   "execution_count": 19,
   "metadata": {},
   "outputs": [
    {
     "name": "stdout",
     "output_type": "stream",
     "text": [
      "Fibonacci series for N= 5\n",
      "0 1 1 2 3 \n",
      "\n",
      "Sum of Fibonacci :  5\n"
     ]
    }
   ],
   "source": [
    "def fibonacci(n):\n",
    "    if n <= 1:\n",
    "       return n\n",
    "    return fibonacci(n-1) + fibonacci(n-2)\n",
    "\n",
    "\n",
    "n = 5\n",
    "print(\"Fibonacci series for N=\",n)\n",
    "for i in range(n):\n",
    "    print(fibonacci(i), end=\" \")\n",
    "\n",
    "\n",
    "print(\"\\n\\nSum of Fibonacci : \", fibonacci(5))"
   ]
  },
  {
   "cell_type": "code",
   "execution_count": null,
   "metadata": {},
   "outputs": [],
   "source": []
  }
 ],
 "metadata": {
  "kernelspec": {
   "display_name": "Python 3",
   "language": "python",
   "name": "python3"
  },
  "language_info": {
   "codemirror_mode": {
    "name": "ipython",
    "version": 3
   },
   "file_extension": ".py",
   "mimetype": "text/x-python",
   "name": "python",
   "nbconvert_exporter": "python",
   "pygments_lexer": "ipython3",
   "version": "3.11.4"
  }
 },
 "nbformat": 4,
 "nbformat_minor": 2
}
